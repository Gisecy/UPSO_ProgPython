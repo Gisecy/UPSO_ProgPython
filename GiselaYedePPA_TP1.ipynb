{
  "nbformat": 4,
  "nbformat_minor": 0,
  "metadata": {
    "colab": {
      "provenance": [],
      "authorship_tag": "ABX9TyPNsNE86SgflVhYW3uAtoUg",
      "include_colab_link": true
    },
    "kernelspec": {
      "name": "python3",
      "display_name": "Python 3"
    },
    "language_info": {
      "name": "python"
    }
  },
  "cells": [
    {
      "cell_type": "markdown",
      "metadata": {
        "id": "view-in-github",
        "colab_type": "text"
      },
      "source": [
        "<a href=\"https://colab.research.google.com/github/Gisecy/UPSO_ProgPython/blob/main/GiselaYedePPA_TP1.ipynb\" target=\"_parent\"><img src=\"https://colab.research.google.com/assets/colab-badge.svg\" alt=\"Open In Colab\"/></a>"
      ]
    },
    {
      "cell_type": "markdown",
      "source": [
        "TRABAJO PRACTICO 1: Introducción - Colab y módulos.\n",
        "\n",
        "2. Crear el módulo operaciones.py que contendrá 4 funciones: para realizar una suma,\n",
        "una resta, una multiplicación y una división entres dos números. Todas ellas\n",
        "devolverán el resultado."
      ],
      "metadata": {
        "id": "5QJHa4FL2pQN"
      }
    },
    {
      "cell_type": "code",
      "source": [
        "%%writefile operaciones.py\n",
        "\n",
        "def sumar (a,b):\n",
        "  return a + b\n",
        "\n",
        "def restar (a,b):\n",
        "  return a - b\n",
        "\n",
        "def multiplicar (a,b):\n",
        "  return a * b\n",
        "\n",
        "def dividir (a,b):\n",
        "  if b == 0:\n",
        "    return \"No se puede dividir por 0\"\n",
        "  else:\n",
        "     return a / b\n"
      ],
      "metadata": {
        "colab": {
          "base_uri": "https://localhost:8080/"
        },
        "id": "uvDTRw6U3EKi",
        "outputId": "7b6a0a9d-bb12-4027-e2a3-bdd6b3ad08c9"
      },
      "execution_count": null,
      "outputs": [
        {
          "output_type": "stream",
          "name": "stdout",
          "text": [
            "Writing operaciones.py\n"
          ]
        }
      ]
    },
    {
      "cell_type": "markdown",
      "source": [
        "3. Función CalcularAreaPerimetro: recibe el radio de una circunferencia y devuelve el\n",
        "área y el perímetro. Importe la biblioteca math de python y use la variable math.pi\n",
        "* Parámetros de entrada: radio (real)\n",
        "* Valores de salida: área y perímetro (real)"
      ],
      "metadata": {
        "id": "MQ6iskLJ6E9I"
      }
    },
    {
      "cell_type": "code",
      "source": [
        "%%writefile areaperim.py\n",
        "import math\n",
        "\n",
        "\n",
        "def calcularAreaPerimetro (radio):\n",
        "   area = math.pi * radio**2\n",
        "   perimetro = 2 * math.pi * radio\n",
        "   return area, perimetro\n"
      ],
      "metadata": {
        "colab": {
          "base_uri": "https://localhost:8080/"
        },
        "id": "D4RKDkR36HIl",
        "outputId": "c8a72140-1f94-41bd-cc4e-93a61a182ac5"
      },
      "execution_count": null,
      "outputs": [
        {
          "output_type": "stream",
          "name": "stdout",
          "text": [
            "Writing areaperim.py\n"
          ]
        }
      ]
    },
    {
      "cell_type": "markdown",
      "source": [
        "4. Diseñar una función que calcule el área y el perímetro de una circunferencia. Utiliza\n",
        "dicha función en un programa principal que lea el radio de una circunferencia y\n",
        "muestre su área y perímetro."
      ],
      "metadata": {
        "id": "ubeTytSU9dpC"
      }
    },
    {
      "cell_type": "code",
      "source": [
        "import areaperim\n",
        "\n",
        "radio = int(input(\"Ingrese radio del circulo: \"))\n",
        "result= areaperim.calcularAreaPerimetro(radio)\n",
        "print(f'Area: {result[0]}, Perimetro: {result[1]}')\n"
      ],
      "metadata": {
        "colab": {
          "base_uri": "https://localhost:8080/"
        },
        "id": "l_cJBkS79wbL",
        "outputId": "2f733983-0b0d-4a25-b563-4065e425d10b"
      },
      "execution_count": null,
      "outputs": [
        {
          "output_type": "stream",
          "name": "stdout",
          "text": [
            "Ingrese radio del circulo: 3\n",
            "Area: 28.274333882308138, Perimetro: 18.84955592153876\n"
          ]
        }
      ]
    },
    {
      "cell_type": "markdown",
      "source": [
        "5. Función Login: Recibe un nombre de usuario y una contraseña, y devuelve un valor\n",
        "lógico: verdadero si se ha introducido el nombre y la contraseña adecuadas. Además\n",
        "devuelve el número de intentos\n",
        "* Parámetros de entrada: nombre y contraseña, y el número de intentos actual\n",
        "* Datos devueltos: Valor lógico indicando si ha hecho login, e intentos."
      ],
      "metadata": {
        "id": "H3E38nKl-Til"
      }
    },
    {
      "cell_type": "code",
      "source": [
        "%%writefile funcionlogin.py\n",
        "def login (usuario, contrasenia,intento):\n",
        "  usu = \"admin\"\n",
        "  pw = \"admin\"\n",
        "  if usuario == usu and contrasenia == pw:\n",
        "    return True, intento\n",
        "  else:\n",
        "    intento = intento + 1\n",
        "    return False, intento\n"
      ],
      "metadata": {
        "colab": {
          "base_uri": "https://localhost:8080/"
        },
        "id": "ve44xZV0-cHE",
        "outputId": "f0f80bdc-4f28-4cf7-f62c-a8f9e1e7eaa7"
      },
      "execution_count": null,
      "outputs": [
        {
          "output_type": "stream",
          "name": "stdout",
          "text": [
            "Overwriting funcionlogin.py\n"
          ]
        }
      ]
    },
    {
      "cell_type": "markdown",
      "source": [
        "6. Crear una subrutina llamada \"Login\", que recibe un nombre de usuario y una\n",
        "contraseña y te devuelve Verdadero si el nombre de usuario es \"usuario1\" y la\n",
        "contraseña es \"asdasd\". Además recibe el número de intentos que se ha intentado\n",
        "hacer login y si no se ha podido hacer login incremente este valor. Crear un\n",
        "programa principal donde se pida un nombre de usuario y una contraseña y se\n",
        "intente hacer login, solamente tenemos tres oportunidades para intentarlo."
      ],
      "metadata": {
        "id": "piBNxTJBJXk0"
      }
    },
    {
      "cell_type": "code",
      "source": [
        "def loginUsu (usuario, contrasenia,intento):\n",
        "\n",
        "  usu = \"usuario1\"\n",
        "  pw = \"asdasd\"\n",
        "  if usuario == usu and contrasenia == pw:\n",
        "    return True\n",
        "  else:\n",
        "    return False\n",
        "\n",
        "intento = 0\n",
        "while True:\n",
        "      nombre = input(\"Ingrese usuario: \")\n",
        "      contrasenia = input(\"Ingrese contraseña: \")\n",
        "      intento = intento + 1\n",
        "      result = loginUsu (nombre, contrasenia, intento)\n",
        "      if result == True:\n",
        "        print(\"Logueo exitoso.\")\n",
        "        break\n",
        "      elif intento > 2:\n",
        "        print(\"Usuario bloqueado.\")\n",
        "        break\n",
        "      else:\n",
        "        print(f'Restan: {3 - intento} intentos.')\n"
      ],
      "metadata": {
        "colab": {
          "base_uri": "https://localhost:8080/"
        },
        "id": "5tGy5154JZ5a",
        "outputId": "af4c361d-fe75-4834-e08d-1d802ccf4540"
      },
      "execution_count": null,
      "outputs": [
        {
          "output_type": "stream",
          "name": "stdout",
          "text": [
            "Ingrese usuario: usuario1\n",
            "Ingrese contraseña: asdasd\n",
            "Logueo exitoso.\n"
          ]
        }
      ]
    },
    {
      "cell_type": "markdown",
      "source": [
        "7. Crear y guardar un archivo de texto en Colab llamado lista_compras.txt con un\n",
        "producto = cantidad en cada fila (ejemplo: “leche=3”).\n",
        "Abrir el archivo de texto en Colab y leer cada fila, separar cada fila en elemento y\n",
        "cantidad.\n",
        "* Respuesta de la ejecución:\n",
        "-------------------\n",
        "Elemento: ____\n",
        "Cantidad: ____"
      ],
      "metadata": {
        "id": "IhbAFZrOoZ2a"
      }
    },
    {
      "cell_type": "code",
      "source": [
        "%%writefile manejoarchivo.py\n",
        "\n",
        "def creaArchivo(producto,cantidad):\n",
        "\n",
        "  try:\n",
        "    archivo = open('lista_compras.txt', 'a', encoding='UTF-8')\n",
        "    archivo.write(producto + \"=\" + cantidad)\n",
        "    archivo.write(\"\\n\")\n",
        "    archivo.close()\n",
        "\n",
        "  except FileExistsError:\n",
        "      print(\"El archivo ya existe.\")\n",
        "\n",
        "def separaPalabra():\n",
        "\n",
        "   productos= []\n",
        "   with open(\"lista_compras.txt\") as listprod:\n",
        "    for linea in listprod:\n",
        "\t    productos.append(linea.split(\"=\"))\n",
        "    for elem in productos:\n",
        "\n",
        "        print(f'Producto: {elem[0]}')\n",
        "        print(f'Cantidad: {elem[1]}')\n",
        ""
      ],
      "metadata": {
        "colab": {
          "base_uri": "https://localhost:8080/"
        },
        "id": "bnQHLq9Oobhu",
        "outputId": "68718c25-5e80-4949-e24d-3846af724a7f"
      },
      "execution_count": null,
      "outputs": [
        {
          "output_type": "stream",
          "name": "stdout",
          "text": [
            "Overwriting manejoarchivo.py\n"
          ]
        }
      ]
    },
    {
      "cell_type": "markdown",
      "source": [
        "8. Pedirle al usuario que ingrese un elemento, y una cantidad. Luego agregarle al\n",
        "archivo de texto del inciso anterior, una línea nueva con un elemento y su respectiva\n",
        "cantidad, en el formato correcto"
      ],
      "metadata": {
        "id": "9lHRXIIFv6Ai"
      }
    },
    {
      "cell_type": "code",
      "source": [
        "import manejoarchivo\n",
        "\n",
        "def cargaDatos(cant):\n",
        "\n",
        "  conteo = 0\n",
        "  while conteo < cant:\n",
        "    producto = \"\"\n",
        "    cantidad = \"\"\n",
        "    while producto.isalpha() != True:\n",
        "      producto = input(\"Ingrese producto: \")\n",
        "      producto = producto.capitalize()\n",
        "      while cantidad.isnumeric() !=True:\n",
        "        cantidad = input(\"Ingrese cantidad: \")\n",
        "        manejoarchivo.creaArchivo(producto, cantidad)\n",
        "        conteo = conteo + 1\n",
        "\n",
        "cant = int(input(\"Ingrese la cantidad de productos a cargar: \"))\n",
        "\n",
        "cargaDatos(cant)\n",
        "manejoarchivo.separaPalabra()\n"
      ],
      "metadata": {
        "colab": {
          "base_uri": "https://localhost:8080/"
        },
        "id": "HvpkcwiuwAeI",
        "outputId": "998c8120-886d-49dd-bb9e-cecb045ecc74"
      },
      "execution_count": null,
      "outputs": [
        {
          "output_type": "stream",
          "name": "stdout",
          "text": [
            "Ingrese la cantidad de productos a cargar: 2\n",
            "Ingrese producto: harina\n",
            "Ingrese cantidad: 2\n",
            "Ingrese producto: sal\n",
            "Ingrese cantidad: 4\n",
            "*******************\n",
            "Producto: Harina\n",
            "Cantidad: 2\n",
            "\n",
            "*******************\n",
            "Producto: Sal\n",
            "Cantidad: 4\n",
            "\n"
          ]
        }
      ]
    }
  ]
}